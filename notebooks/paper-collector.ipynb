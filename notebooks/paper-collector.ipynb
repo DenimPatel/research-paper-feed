{
 "cells": [
  {
   "cell_type": "code",
   "execution_count": 1,
   "id": "ff3df72b",
   "metadata": {},
   "outputs": [],
   "source": [
    "import logging, arxiv\n",
    "logging.basicConfig(level=logging.INFO)\n"
   ]
  },
  {
   "cell_type": "code",
   "execution_count": 2,
   "id": "e05b9b03",
   "metadata": {},
   "outputs": [],
   "source": [
    "MAX_PAPERS_TO_PULL = 1000\n",
    "DOWNLOAD_PAPER = False\n",
    "DOWNLOAD_RESOURCES = False\n",
    "SAVE_CSV = False\n",
    "GENERATE_HTML = True"
   ]
  },
  {
   "cell_type": "code",
   "execution_count": 9,
   "id": "00dcb81c",
   "metadata": {},
   "outputs": [],
   "source": [
    "import numpy as np\n",
    "import pandas as pd\n",
    "import arxiv\n",
    "import os\n",
    "import tarfile\n",
    "from datetime import datetime\n",
    "\n",
    "now = datetime.now() \n",
    "prefix = now.strftime(\"%m-%d-%Y-%H-%M-%S\")"
   ]
  },
  {
   "cell_type": "markdown",
   "id": "9af1e0ce",
   "metadata": {},
   "source": [
    "## topic ideas\n",
    "- cat:cs.CV AND \\\" 3d reconstruction \\\"\n",
    "- hd AND map AND generation\n",
    "- visual AND inertial AND odometry\n"
   ]
  },
  {
   "cell_type": "code",
   "execution_count": 4,
   "id": "97ef14ba",
   "metadata": {},
   "outputs": [
    {
     "name": "stdout",
     "output_type": "stream",
     "text": [
      "Enter the topic you need to search for : investment\n"
     ]
    }
   ],
   "source": [
    "topic = input(\"Enter the topic you need to search for : \")"
   ]
  },
  {
   "cell_type": "code",
   "execution_count": 5,
   "id": "aede4f36",
   "metadata": {},
   "outputs": [
    {
     "name": "stderr",
     "output_type": "stream",
     "text": [
      "INFO:arxiv.arxiv:Requesting 1000 results at offset 0\n",
      "INFO:arxiv.arxiv:Requesting page of results\n",
      "INFO:arxiv.arxiv:Got first page; 4588 of inf results available\n"
     ]
    }
   ],
   "source": [
    "big_slow_client = arxiv.Client(\n",
    "  page_size = min(1000, MAX_PAPERS_TO_PULL) ,\n",
    "  delay_seconds = 10,\n",
    "  num_retries = 5\n",
    ")\n",
    "\n",
    "all_data = []\n",
    "for result in big_slow_client.results(arxiv.Search(query=topic, \n",
    "                                                   sort_by = arxiv.SortCriterion.SubmittedDate,\n",
    "                                                   sort_order = arxiv.SortOrder.Descending)):\n",
    "    temp = [\"\",\"\",\"\",\"\",\"\",\"\",\"\",\"\",\"\"]\n",
    "    temp[0] = result.title\n",
    "    temp[1] = result.published\n",
    "    temp[2] = result.entry_id\n",
    "    temp[3] = result.summary\n",
    "    temp[4] = result.pdf_url\n",
    "    temp[5] = result.authors\n",
    "    temp[6] = result.primary_category\n",
    "    temp[7] = result.categories\n",
    "    temp[8] = result.links\n",
    "    if DOWNLOAD_PAPER:\n",
    "        result.download_pdf(filename=f\"{result.title}.pdf\")\n",
    "    if DOWNLOAD_RESOURCES:\n",
    "        result.download_source(filename=f\"{result.title}.tar.gz\")\n",
    "        file = tarfile.open(f\"{result.title}.tar.gz\")\n",
    "        file.extractall(f'./extracted/{result.title}')\n",
    "        file.close()\n",
    "    all_data.append(temp)\n",
    "    if len(all_data) >= MAX_PAPERS_TO_PULL:\n",
    "        break\n",
    "    "
   ]
  },
  {
   "cell_type": "code",
   "execution_count": 6,
   "id": "61197218",
   "metadata": {},
   "outputs": [
    {
     "name": "stdout",
     "output_type": "stream",
     "text": [
      "Number of papers extracted :  1000\n"
     ]
    }
   ],
   "source": [
    "column_names = ['Title','Date','Id','Summary','URL', 'Authors', 'Primary_category', 'Categories', 'Links']\n",
    "df = pd.DataFrame(all_data, columns=column_names)\n",
    " \n",
    "print(\"Number of papers extracted : \",df.shape[0])\n",
    "df.head()\n",
    "\n",
    "if SAVE_CSV:\n",
    "    df.to_csv(topic+\"_papers.csv\", index=False)"
   ]
  },
  {
   "cell_type": "code",
   "execution_count": 7,
   "id": "bba23078",
   "metadata": {},
   "outputs": [
    {
     "data": {
      "text/html": [
       "<div>\n",
       "<style scoped>\n",
       "    .dataframe tbody tr th:only-of-type {\n",
       "        vertical-align: middle;\n",
       "    }\n",
       "\n",
       "    .dataframe tbody tr th {\n",
       "        vertical-align: top;\n",
       "    }\n",
       "\n",
       "    .dataframe thead th {\n",
       "        text-align: right;\n",
       "    }\n",
       "</style>\n",
       "<table border=\"1\" class=\"dataframe\">\n",
       "  <thead>\n",
       "    <tr style=\"text-align: right;\">\n",
       "      <th></th>\n",
       "      <th>Title</th>\n",
       "      <th>Date</th>\n",
       "      <th>Id</th>\n",
       "      <th>Summary</th>\n",
       "      <th>URL</th>\n",
       "      <th>Authors</th>\n",
       "      <th>Primary_category</th>\n",
       "      <th>Categories</th>\n",
       "      <th>Links</th>\n",
       "    </tr>\n",
       "  </thead>\n",
       "  <tbody>\n",
       "    <tr>\n",
       "      <th>0</th>\n",
       "      <td>Reinforcement Learning for Joint Design and Co...</td>\n",
       "      <td>2023-07-09 18:47:58+00:00</td>\n",
       "      <td>http://arxiv.org/abs/2307.04244v1</td>\n",
       "      <td>The decentralisation and unpredictability of n...</td>\n",
       "      <td>http://arxiv.org/pdf/2307.04244v1</td>\n",
       "      <td>[Marine Cauz, Adrien Bolland, Bardhyl Miftari,...</td>\n",
       "      <td>math.OC</td>\n",
       "      <td>[math.OC]</td>\n",
       "      <td>[http://arxiv.org/abs/2307.04244v1, http://arx...</td>\n",
       "    </tr>\n",
       "  </tbody>\n",
       "</table>\n",
       "</div>"
      ],
      "text/plain": [
       "                                               Title  \\\n",
       "0  Reinforcement Learning for Joint Design and Co...   \n",
       "\n",
       "                       Date                                 Id  \\\n",
       "0 2023-07-09 18:47:58+00:00  http://arxiv.org/abs/2307.04244v1   \n",
       "\n",
       "                                             Summary  \\\n",
       "0  The decentralisation and unpredictability of n...   \n",
       "\n",
       "                                 URL  \\\n",
       "0  http://arxiv.org/pdf/2307.04244v1   \n",
       "\n",
       "                                             Authors Primary_category  \\\n",
       "0  [Marine Cauz, Adrien Bolland, Bardhyl Miftari,...          math.OC   \n",
       "\n",
       "  Categories                                              Links  \n",
       "0  [math.OC]  [http://arxiv.org/abs/2307.04244v1, http://arx...  "
      ]
     },
     "execution_count": 7,
     "metadata": {},
     "output_type": "execute_result"
    }
   ],
   "source": [
    "df.head(1)"
   ]
  },
  {
   "cell_type": "code",
   "execution_count": 10,
   "id": "0c5f63d7",
   "metadata": {},
   "outputs": [
    {
     "name": "stdout",
     "output_type": "stream",
     "text": [
      "results/investment-1000_papers_extracted_on_07-12-2023-18-40-48.html file saved!\n"
     ]
    }
   ],
   "source": [
    "if GENERATE_HTML:\n",
    "    data = [ r\"\"\"<!DOCTYPE html PUBLIC \"-//W3C//DTD HTML 3.2 Final//EN\">\n",
    "    <html>\n",
    "    <head>\n",
    "    <title>Mathedemo</title>\n",
    "    <style>\n",
    "          body {\n",
    "             margin-left: 400px;\n",
    "             margin-right: 400px;\n",
    "          }\n",
    "       </style>\n",
    "\n",
    "    <script type=\"text/x-mathjax-config\">\n",
    "      MathJax.Hub.Config({tex2jax: {inlineMath: [['$','$'], ['\\\\(','\\\\)']]}});\n",
    "    </script>\n",
    "    <script type=\"text/javascript\"\n",
    "      src=\"http://cdnjs.cloudflare.com/ajax/libs/mathjax/2.7.1/MathJax.js?config=TeX-AMS-MML_HTMLorMML\">\n",
    "    </script>\n",
    "    </head>\n",
    "\n",
    "     \"\"\"]\n",
    "    for i in range(len(df)):\n",
    "        data.append(f\"<br> <br> <br> <font size='5'> {i+1} </font> \")\n",
    "        data.append(f\"\"\"<div style=\"text-align: right\"> {str(df[\"Date\"][i])} </div>\"\"\")    \n",
    "        data.append(\"<hr style='border-style: dotted;' /> <b> <font size='5'> Title: \"+df[\"Title\"][i]+ \"</b> </font>\")\n",
    "        data.append(\"<hr style='border-style: dotted;' /> \")\n",
    "        data.append(f\"<br> <font size='3'> Summary: \" + f'{df[\"Summary\"][i]} </font>')             \n",
    "        data.append(\"<br> Link: \")\n",
    "        data.append(f\"\"\"<a href='{df[\"URL\"][i]}' target=\"_blank\">{df[\"URL\"][i]}</a>\"\"\")\n",
    "    data.append(\"\"\"\n",
    "    </body>\n",
    "    </html>\"\"\")\n",
    "    data = \"\".join(data)\n",
    "    filename = 'results/' + topic +'-'+ str(len(df))+'_papers_extracted_on_' + prefix + '.html'\n",
    "    with open(filename, \"w\") as file:\n",
    "        file.write(data)\n",
    "    print(filename, \"file saved!\")"
   ]
  }
 ],
 "metadata": {
  "kernelspec": {
   "display_name": "Python 3 (ipykernel)",
   "language": "python",
   "name": "python3"
  },
  "language_info": {
   "codemirror_mode": {
    "name": "ipython",
    "version": 3
   },
   "file_extension": ".py",
   "mimetype": "text/x-python",
   "name": "python",
   "nbconvert_exporter": "python",
   "pygments_lexer": "ipython3",
   "version": "3.9.13"
  },
  "varInspector": {
   "cols": {
    "lenName": 16,
    "lenType": 16,
    "lenVar": 40
   },
   "kernels_config": {
    "python": {
     "delete_cmd_postfix": "",
     "delete_cmd_prefix": "del ",
     "library": "var_list.py",
     "varRefreshCmd": "print(var_dic_list())"
    },
    "r": {
     "delete_cmd_postfix": ") ",
     "delete_cmd_prefix": "rm(",
     "library": "var_list.r",
     "varRefreshCmd": "cat(var_dic_list()) "
    }
   },
   "types_to_exclude": [
    "module",
    "function",
    "builtin_function_or_method",
    "instance",
    "_Feature"
   ],
   "window_display": false
  }
 },
 "nbformat": 4,
 "nbformat_minor": 5
}
